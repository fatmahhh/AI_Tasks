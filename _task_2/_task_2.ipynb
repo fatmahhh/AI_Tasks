{
 "cells": [
  {
   "cell_type": "code",
   "execution_count": null,
   "metadata": {
    "ExecuteTime": {
     "start_time": "2021-11-23T17:20:46.429Z"
    }
   },
   "outputs": [],
   "source": [
    "# Task2_first part\n",
    "# how to get an address of a variable !!\n",
    "var1=input(\"Enter first variable :\")\n",
    "print(\" the address of the first variable \", hex(id(var1)))\n",
    "var2=input(\"Enter second variable :\")\n",
    "print(\" the address of the second variable \", hex(id(var2)))\n",
    "var3=input(\"Enter third variable :\")\n",
    "print(\" the address of the third variable \", hex(id(var3)))\n",
    "var4=input(\"Enter fourth variable :\")\n",
    "print(\" the address of the fourth variable \", hex(id(var4)))\n"
   ]
  },
  {
   "cell_type": "code",
   "execution_count": null,
   "metadata": {
    "ExecuteTime": {
     "start_time": "2021-11-24T13:06:00.894Z"
    }
   },
   "outputs": [],
   "source": [
    "# Task_2 Second part\n",
    "# OOP\n",
    "class Car:\n",
    "    \n",
    "    # change speed \n",
    "    def ChangeSpeed(self):\n",
    "        speed=int(input(\" change the speed of your car :\"))\n",
    "        print(\" your speed is \",speed)\n",
    "    # open lock \n",
    "    def OpenLock(self):\n",
    "        print(\" check if the car is locked or not !!\")\n",
    "        isLocked= str(input(\"press y if the car is locked: \"))\n",
    "        if isLocked ==\"y\":\n",
    "            isLocked=\"N\"\n",
    "            print(\" car is opened now\")\n",
    "        else :\n",
    "            print(\" car is  already opened\")  \n",
    "    def CheckOilandFilltank(self):\n",
    "        print(\" to check the tank is full or not look at the tank and enter the number you see..,\")\n",
    "        tankIsful=input(\"enter the number on tank \")\n",
    "        if tankIsful in range(100,400):\n",
    "            print(\" tank is full\")\n",
    "        else:\n",
    "            print(\"tank needs to be fulled😃\")\n",
    "    def Charge(self):\n",
    "        # ckech if electrical then charge\n",
    "        value=str(input(\" is your car electrical ?!!!..press yes if its \"))\n",
    "        if value==\"yes\"or \"Yes\":\n",
    "            battery=input(\"enter the battery percentage..\")\n",
    "            if battery in range(0,25):\n",
    "                print(\"your car needs to be charged \")\n",
    "                battery=100\n",
    "            else: \n",
    "                print(\"your car needn't to be charged \")\n",
    "        else: \n",
    "            print(\" sorry your car is not electrical so you can not use this feature\") \n",
    "\n",
    "Car1= Car()\n",
    "Car1.ChangeSpeed()\n",
    "Car1.OpenLock()\n",
    "Car1.CheckOil()\n",
    "Car1.Charge()\n"
   ]
  },
  {
   "cell_type": "code",
   "execution_count": null,
   "metadata": {},
   "outputs": [],
   "source": []
  },
  {
   "cell_type": "code",
   "execution_count": null,
   "metadata": {},
   "outputs": [],
   "source": []
  }
 ],
 "metadata": {
  "celltoolbar": "Raw Cell Format",
  "kernelspec": {
   "display_name": "Python 3",
   "language": "python",
   "name": "python3"
  },
  "language_info": {
   "codemirror_mode": {
    "name": "ipython",
    "version": 3
   },
   "file_extension": ".py",
   "mimetype": "text/x-python",
   "name": "python",
   "nbconvert_exporter": "python",
   "pygments_lexer": "ipython3",
   "version": "3.7.6"
  },
  "toc": {
   "base_numbering": 1,
   "nav_menu": {},
   "number_sections": true,
   "sideBar": true,
   "skip_h1_title": false,
   "title_cell": "Table of Contents",
   "title_sidebar": "Contents",
   "toc_cell": false,
   "toc_position": {},
   "toc_section_display": true,
   "toc_window_display": false
  },
  "varInspector": {
   "cols": {
    "lenName": 16,
    "lenType": 16,
    "lenVar": 40
   },
   "kernels_config": {
    "python": {
     "delete_cmd_postfix": "",
     "delete_cmd_prefix": "del ",
     "library": "var_list.py",
     "varRefreshCmd": "print(var_dic_list())"
    },
    "r": {
     "delete_cmd_postfix": ") ",
     "delete_cmd_prefix": "rm(",
     "library": "var_list.r",
     "varRefreshCmd": "cat(var_dic_list()) "
    }
   },
   "types_to_exclude": [
    "module",
    "function",
    "builtin_function_or_method",
    "instance",
    "_Feature"
   ],
   "window_display": false
  }
 },
 "nbformat": 4,
 "nbformat_minor": 4
}
